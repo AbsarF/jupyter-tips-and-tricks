{
 "cells": [
  {
   "cell_type": "code",
   "execution_count": 1,
   "metadata": {
    "collapsed": true
   },
   "outputs": [],
   "source": [
    "%matplotlib inline\n",
    "\n",
    "from matplotlib.collections import LineCollection\n",
    "import matplotlib.pyplot as plt\n",
    "from scipy import interpolate\n",
    "import numpy as np\n",
    "from numpy.random import rand\n",
    "\n",
    "from ipywidgets import FloatSlider, interactive, IntSlider"
   ]
  },
  {
   "cell_type": "code",
   "execution_count": 2,
   "metadata": {
    "collapsed": true
   },
   "outputs": [],
   "source": [
    "def simple_example(amplitude=2.0, phase=0.0):\n",
    "    plt.rcParams['figure.figsize'] = 8,6\n",
    "    plt.figure()\n",
    "    x = np.linspace(-2*np.pi, 2*np.pi, 1000)\n",
    "    y = amplitude * np.sin(x + phase)\n",
    "    plt.plot(x, y)\n",
    "    plt.xlim(-3, 3)\n",
    "    plt.ylim(-2*np.pi, 2*np.pi)\n",
    "    return"
   ]
  },
  {
   "cell_type": "code",
   "execution_count": 3,
   "metadata": {
    "collapsed": false
   },
   "outputs": [
    {
     "data": {
      "image/png": "[encoded data removed]",
      "text/plain": [
       "<matplotlib.figure.Figure at 0x111aac0b8>"
      ]
     },
     "metadata": {},
     "output_type": "display_data"
    }
   ],
   "source": [
    "amplitude_slider = FloatSlider(value=2.0, min=0, max=3.0, step=.05)\n",
    "phase_slider = FloatSlider(value=0.0, min=-np.pi, max=np.pi, step=.05)\n",
    "\n",
    "interactive(simple_example,\n",
    "            amplitude=amplitude_slider,\n",
    "            phase=phase_slider\n",
    "           )"
   ]
  },
  {
   "cell_type": "code",
   "execution_count": 4,
   "metadata": {
    "collapsed": false
   },
   "outputs": [
    {
     "data": {
      "image/png": "[encoded data removed]",
      "text/plain": [
       "<matplotlib.figure.Figure at 0x11184d6a0>"
      ]
     },
     "metadata": {},
     "output_type": "display_data"
    }
   ],
   "source": [
    "def spline_demo(num=14, smooth=0, seed=10, brush_strokes=30, alpha=0.5):\n",
    "    a = np.random.RandomState(seed=seed)\n",
    "    x = a.rand(num)\n",
    "    y = a.rand(num)\n",
    "    t = np.arange(0, 1.1, .1)\n",
    "    plt.rcParams['figure.figsize'] = 8,8\n",
    "    plt.figure()\n",
    "    for _ in range(brush_strokes):\n",
    "        tck, u = interpolate.splprep([x+a.rand(num)/10.0,y+a.rand(num)/10.0], s=smooth)\n",
    "        unew = np.arange(0, 1.01, 0.001)\n",
    "        out = interpolate.splev(unew, tck)\n",
    "        plt.plot(out[0], out[1], alpha=alpha, c='black', linewidth=3.0)\n",
    "    plt.xlim(-1.5, 2.5)\n",
    "    plt.ylim(-1.5, 2.5)\n",
    "    plt.axis('off')\n",
    "\n",
    "smooth_slider = FloatSlider(value=0, min=0, max=20.0, step=.1)\n",
    "num_points_slider = IntSlider(value=8, min=4, max=20)\n",
    "seed_slider = IntSlider(value=4, min=4, max=20)\n",
    "brush_slider = IntSlider(value=1, min=1, max=20)\n",
    "alpha_slider = FloatSlider(value=.5, min=0, max=1.0, step=.05)\n",
    "\n",
    "w=interactive(spline_demo,\n",
    "              smooth=smooth_slider, \n",
    "              num=num_points_slider, \n",
    "              seed=seed_slider, \n",
    "              brush_strokes=brush_slider,\n",
    "              alpha=alpha_slider)\n",
    "w"
   ]
  },
  {
   "cell_type": "code",
   "execution_count": null,
   "metadata": {
    "collapsed": true
   },
   "outputs": [],
   "source": []
  }
 ],
 "metadata": {
  "anaconda-cloud": {},
  "kernelspec": {
   "display_name": "Python [default]",
   "language": "python",
   "name": "python3"
  },
  "language_info": {
   "codemirror_mode": {
    "name": "ipython",
    "version": 3
   },
   "file_extension": ".py",
   "mimetype": "text/x-python",
   "name": "python",
   "nbconvert_exporter": "python",
   "pygments_lexer": "ipython3",
   "version": "3.5.2"
  },
  "widgets": {
   "state": {
    "db7047d5de764185a30a08a84bac41a0": {
     "views": [
      {
       "cell_index": 3
      }
     ]
    },
    "f023e8784278461d82e081792fba07ca": {
     "views": [
      {
       "cell_index": 2
      }
     ]
    }
   },
   "version": "1.2.0"
  }
 },
 "nbformat": 4,
 "nbformat_minor": 0
}
