{
 "cells": [
  {
   "cell_type": "markdown",
   "metadata": {},
   "source": [
    "# Workflow after setting everything up\n",
    "\n",
    "If this is your first time running these commands, please scroll down to the heading \"First time\" to get your repo setup. After that, you'll want to refer to these instructions. As always, feedback and pull requests are encouraged!"
   ]
  },
  {
   "cell_type": "code",
   "execution_count": 24,
   "metadata": {
    "collapsed": false
   },
   "outputs": [
    {
     "name": "stdout",
     "output_type": "stream",
     "text": [
      "remote: Counting objects: 1, done.\u001b[K\n",
      "remote: Total 1 (delta 0), reused 1 (delta 0), pack-reused 0\u001b[K\n",
      "Unpacking objects: 100% (1/1), done.\n",
      "From git://github.com/jbwhit/jupyter-best-practices\n",
      "   b8c8944..3485e0f  master     -> upstream/master\n"
     ]
    }
   ],
   "source": [
    "!git fetch upstream"
   ]
  },
  {
   "cell_type": "code",
   "execution_count": 25,
   "metadata": {
    "collapsed": false
   },
   "outputs": [
    {
     "name": "stdout",
     "output_type": "stream",
     "text": [
      "Updating e9e4059..3485e0f\r\n",
      "Fast-forward\r\n"
     ]
    }
   ],
   "source": [
    "!git merge upstream/master master "
   ]
  },
  {
   "cell_type": "code",
   "execution_count": 38,
   "metadata": {
    "collapsed": true
   },
   "outputs": [],
   "source": [
    "branch_name = \"test-feature\""
   ]
  },
  {
   "cell_type": "code",
   "execution_count": 27,
   "metadata": {
    "collapsed": false
   },
   "outputs": [
    {
     "name": "stdout",
     "output_type": "stream",
     "text": [
      "M\tnotebooks/github-integration.ipynb\n",
      "Your branch is up-to-date with 'remotes/upstream/master'.\n",
      "Branch master set up to track remote branch master from origin.\n",
      "Branch test-feature set up to track remote branch test-feature from origin.\n"
     ]
    },
    {
     "name": "stderr",
     "output_type": "stream",
     "text": [
      "To git@github-svds:jonathan-svds/jupyter-best-practices.git\n",
      "   e9e4059..3485e0f  test-feature -> test-feature\n"
     ]
    }
   ],
   "source": [
    "%%bash\n",
    "\n",
    "git branch $branch_name upstream/master\n",
    "git checkout $branch_name\n",
    "# git push --set-upstream origin \n",
    "# git push --set-upstream your-github-username my-new-feature "
   ]
  },
  {
   "cell_type": "code",
   "execution_count": 29,
   "metadata": {
    "collapsed": false
   },
   "outputs": [
    {
     "name": "stdout",
     "output_type": "stream",
     "text": [
      "On branch test-feature\r\n",
      "Your branch is up-to-date with 'origin/test-feature'.\r\n",
      "Changes not staged for commit:\r\n",
      "  (use \"git add <file>...\" to update what will be committed)\r\n",
      "  (use \"git checkout -- <file>...\" to discard changes in working directory)\r\n",
      "\r\n",
      "\t\u001b[31mmodified:   github-integration.ipynb\u001b[m\r\n",
      "\r\n",
      "Untracked files:\r\n",
      "  (use \"git add <file>...\" to include in what will be committed)\r\n",
      "\r\n",
      "\t\u001b[31m.ipynb_checkpoints/\u001b[m\r\n",
      "\r\n",
      "no changes added to commit (use \"git add\" and/or \"git commit -a\")\r\n"
     ]
    }
   ],
   "source": [
    "!git status"
   ]
  },
  {
   "cell_type": "code",
   "execution_count": 16,
   "metadata": {
    "collapsed": true
   },
   "outputs": [],
   "source": [
    "!git add ../data/*"
   ]
  },
  {
   "cell_type": "code",
   "execution_count": 17,
   "metadata": {
    "collapsed": false
   },
   "outputs": [
    {
     "name": "stdout",
     "output_type": "stream",
     "text": [
      "On branch test-feature\r\n",
      "Your branch is up-to-date with 'upstream/master'.\r\n",
      "Changes to be committed:\r\n",
      "  (use \"git reset HEAD <file>...\" to unstage)\r\n",
      "\r\n",
      "\t\u001b[32mnew file:   ../data/coal_prod_2002.csv\u001b[m\r\n",
      "\t\u001b[32mnew file:   ../data/coal_prod_2003.csv\u001b[m\r\n",
      "\t\u001b[32mnew file:   ../data/coal_prod_2004.csv\u001b[m\r\n",
      "\t\u001b[32mnew file:   ../data/coal_prod_2005.csv\u001b[m\r\n",
      "\t\u001b[32mnew file:   ../data/coal_prod_2006.csv\u001b[m\r\n",
      "\t\u001b[32mnew file:   ../data/coal_prod_2007.csv\u001b[m\r\n",
      "\t\u001b[32mnew file:   ../data/coal_prod_2008.csv\u001b[m\r\n",
      "\t\u001b[32mnew file:   ../data/coal_prod_2009.csv\u001b[m\r\n",
      "\t\u001b[32mnew file:   ../data/coal_prod_2010.csv\u001b[m\r\n",
      "\t\u001b[32mnew file:   ../data/coal_prod_2011.csv\u001b[m\r\n",
      "\t\u001b[32mnew file:   ../data/coal_prod_2012.csv\u001b[m\r\n",
      "\r\n",
      "Untracked files:\r\n",
      "  (use \"git add <file>...\" to include in what will be committed)\r\n",
      "\r\n",
      "\t\u001b[31m./\u001b[m\r\n",
      "\r\n"
     ]
    }
   ],
   "source": [
    "!git status"
   ]
  },
  {
   "cell_type": "code",
   "execution_count": 35,
   "metadata": {
    "collapsed": false
   },
   "outputs": [
    {
     "name": "stdout",
     "output_type": "stream",
     "text": [
      "On branch test-feature\r\n",
      "Your branch is up-to-date with 'origin/test-feature'.\r\n",
      "Changes to be committed:\r\n",
      "  (use \"git reset HEAD <file>...\" to unstage)\r\n",
      "\r\n",
      "\t\u001b[32mmodified:   Insight-demo.ipynb\u001b[m\r\n",
      "\t\u001b[32mmodified:   github-integration.ipynb\u001b[m\r\n",
      "\r\n",
      "Untracked files:\r\n",
      "  (use \"git add <file>...\" to include in what will be committed)\r\n",
      "\r\n",
      "\t\u001b[31m.ipynb_checkpoints/\u001b[m\r\n",
      "\r\n"
     ]
    }
   ],
   "source": [
    "!git add *\n",
    "!git status"
   ]
  },
  {
   "cell_type": "code",
   "execution_count": 36,
   "metadata": {
    "collapsed": false
   },
   "outputs": [
    {
     "name": "stdout",
     "output_type": "stream",
     "text": [
      "[test-feature 0f1813e] Update github-integration -2\r\n",
      " 2 files changed, 42 insertions(+), 54 deletions(-)\r\n"
     ]
    }
   ],
   "source": [
    "!git commit -am \"Update github-integration -2\""
   ]
  },
  {
   "cell_type": "code",
   "execution_count": 37,
   "metadata": {
    "collapsed": false
   },
   "outputs": [
    {
     "name": "stdout",
     "output_type": "stream",
     "text": [
      "error: src refspec workflow-update does not match any.\r\n",
      "error: failed to push some refs to 'git@github-svds:jonathan-svds/jupyter-best-practices.git'\r\n"
     ]
    }
   ],
   "source": [
    "!git push origin $branch_name"
   ]
  },
  {
   "cell_type": "code",
   "execution_count": 34,
   "metadata": {
    "collapsed": false
   },
   "outputs": [
    {
     "name": "stdout",
     "output_type": "stream",
     "text": [
      "error: Your local changes to the following files would be overwritten by checkout:\r\n",
      "\tnotebooks/github-integration.ipynb\r\n",
      "Please, commit your changes or stash them before you can switch branches.\r\n",
      "Aborting\r\n"
     ]
    }
   ],
   "source": [
    "!git checkout master"
   ]
  },
  {
   "cell_type": "markdown",
   "metadata": {},
   "source": [
    "### Now it's time to go to your github page and submit your pull request!"
   ]
  },
  {
   "cell_type": "markdown",
   "metadata": {},
   "source": [
    "# First time\n",
    "\n",
    "If this is your first time running this code, this is the section for you!\n",
    "\n",
    " 1. Get a github account if you don't already have one\n",
    " 1. Go to https://github.com/jbwhit/jupyter-best-practices\n",
    " 1. Fork the repo (so you have a linked-clone in github)\n",
    " 1. The below instructions have you clone your forked version of my repo\n",
    " 1. If you make changes and push them (to an appropriate branch), you can then submit a pull request and I'll merge it back into the main repo.\n"
   ]
  },
  {
   "cell_type": "code",
   "execution_count": 22,
   "metadata": {
    "collapsed": true
   },
   "outputs": [],
   "source": [
    "github_username = \"FILL IN YOUR GITHUB USERNAME HERE\""
   ]
  },
  {
   "cell_type": "code",
   "execution_count": null,
   "metadata": {
    "collapsed": true
   },
   "outputs": [],
   "source": [
    "%%bash\n",
    "git clone git@github.com:/$github_username/jupyter-best-practices.git\n",
    "cd jupyter-best-practices\n",
    "git remote add upstream git://github.com/jbwhit/jupyter-best-practices.git"
   ]
  }
 ],
 "metadata": {
  "kernelspec": {
   "display_name": "Python 2",
   "language": "python",
   "name": "python2"
  },
  "language_info": {
   "codemirror_mode": {
    "name": "ipython",
    "version": 2
   },
   "file_extension": ".py",
   "mimetype": "text/x-python",
   "name": "python",
   "nbconvert_exporter": "python",
   "pygments_lexer": "ipython2",
   "version": "2.7.9"
  }
 },
 "nbformat": 4,
 "nbformat_minor": 0
}
