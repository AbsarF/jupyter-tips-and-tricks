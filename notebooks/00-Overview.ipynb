{
 "cells": [
  {
   "cell_type": "markdown",
   "metadata": {},
   "source": [
    "# Insight Data Science\n",
    "\n",
    "## Jupyter Notebook (formerly IPython Notebook) + Python + Data Science Workflow\n",
    "\n",
    "By: [Jonathan Whitmore](http://jonathanwhitmore.com/)\n",
    "\n",
    " - Email: [jbwhit@gmail.com](mailto:jbwhit@gmail.com)\n",
    " - Twitter: [@jbwhitmore](https://twitter.com/jbwhitmore)\n",
    " - **LinkedIn**: [Add me w/ 1 line message about Insight](https://www.linkedin.com/in/jonathanbwhitmore)\n",
    "\n",
    "Notebooks: https://github.com/jbwhit/jupyter-best-practices "
   ]
  },
  {
   "cell_type": "markdown",
   "metadata": {},
   "source": [
    "## Table of Contents\n",
    "\n",
    " 1. Initial Couple of Demos to demonstrate some of the Notebook's capabilities\n",
    " 2. Exploratory (Interactive) Data Analysis\n",
    " 2. Some python and coding basics\n",
    " 3. Notebook specific basics\n",
    " 4. Deeper in Pandas, Plotting and SQL\n",
    " 5. Extras if time!\n",
    " \n",
    "### Themes\n",
    "\n",
    " - Workflow matters\n",
    "  - Make repeated actions as automatic as possible\n",
    " - Adhere to best practices as best you can (unless you have a really good reason not to). \n",
    "  1. You will have to collaborate on teams -- code quality matters. \n",
    "  1. PEP8 things\n",
    " - Learn your tools\n",
    "   - there are `csv` parsers, don't roll your own\n",
    " - Contribute back -- stackoverflow\n",
    " \n",
    " \n",
    "### Resources\n",
    "\n",
    "  - https://github.com/ipython/ipython/wiki/A-gallery-of-interesting-IPython-Notebooks\n",
    "  - git and github \n",
    "   - Creator of IPython, Fernando Perez's, git/github tutorial via IPython Notebook based on Insight Fellow [John McDonnell](http://jvmcd.nl/).\n",
    "   - [Jake Vanderplas](http://jvmcd.nl/)'s [tutorial](http://nbviewer.ipython.org/github/fperez/reprosw/blob/master/Version%20Control.ipynb)\n",
    "  - [Stitch Fix Post](https://github.com/stitchfix/Algorithms-Notebooks/blob/master/Long-Tails.ipynb)\n",
    "  - Peter Norvig's Notebook on [Traveling Salesman](http://nbviewer.ipython.org/url/norvig.com/ipython/TSPv3.ipynb)\n",
    "\n",
    "\n",
    "## Final comment\n",
    "\n",
    " - Don't try to take notes, just let this wash over you. \n",
    " - These Notebooks will be available to you."
   ]
  },
  {
   "cell_type": "code",
   "execution_count": 1,
   "metadata": {
    "collapsed": false
   },
   "outputs": [],
   "source": [
    "from IPython.display import FileLinks, FileLink"
   ]
  },
  {
   "cell_type": "code",
   "execution_count": 3,
   "metadata": {
    "collapsed": false
   },
   "outputs": [
    {
     "data": {
      "text/html": [
       "/Users/jonathan/github/jupyter-best-practices/notebooks/<br>\n",
       "&nbsp;&nbsp;<a href='/Users/jonathan/github/jupyter-best-practices/notebooks/00-Overview.ipynb' target='_blank'>00-Overview.ipynb</a><br>\n",
       "&nbsp;&nbsp;<a href='/Users/jonathan/github/jupyter-best-practices/notebooks/01-Initial_Demo.ipynb' target='_blank'>01-Initial_Demo.ipynb</a><br>\n",
       "&nbsp;&nbsp;<a href='/Users/jonathan/github/jupyter-best-practices/notebooks/02-Exploratory_(Interactive)_Data_Analysis.ipynb' target='_blank'>02-Exploratory_(Interactive)_Data_Analysis.ipynb</a><br>\n",
       "&nbsp;&nbsp;<a href='/Users/jonathan/github/jupyter-best-practices/notebooks/03-Some_basics.ipynb' target='_blank'>03-Some_basics.ipynb</a><br>\n",
       "&nbsp;&nbsp;<a href='/Users/jonathan/github/jupyter-best-practices/notebooks/04-More_basics.ipynb' target='_blank'>04-More_basics.ipynb</a><br>\n",
       "&nbsp;&nbsp;<a href='/Users/jonathan/github/jupyter-best-practices/notebooks/05-Pandas_Plotting_and_SQL.ipynb' target='_blank'>05-Pandas_Plotting_and_SQL.ipynb</a><br>\n",
       "&nbsp;&nbsp;<a href='/Users/jonathan/github/jupyter-best-practices/notebooks/06-Extras.ipynb' target='_blank'>06-Extras.ipynb</a><br>\n",
       "&nbsp;&nbsp;<a href='/Users/jonathan/github/jupyter-best-practices/notebooks/Data_Cleaning.ipynb' target='_blank'>Data_Cleaning.ipynb</a><br>\n",
       "&nbsp;&nbsp;<a href='/Users/jonathan/github/jupyter-best-practices/notebooks/github-integration.ipynb' target='_blank'>github-integration.ipynb</a><br>\n",
       "/Users/jonathan/github/jupyter-best-practices/notebooks/.ipynb_checkpoints/<br>\n",
       "&nbsp;&nbsp;<a href='/Users/jonathan/github/jupyter-best-practices/notebooks/.ipynb_checkpoints/00-Overview-checkpoint.ipynb' target='_blank'>00-Overview-checkpoint.ipynb</a><br>\n",
       "&nbsp;&nbsp;<a href='/Users/jonathan/github/jupyter-best-practices/notebooks/.ipynb_checkpoints/01-Initial_Demo-checkpoint.ipynb' target='_blank'>01-Initial_Demo-checkpoint.ipynb</a><br>\n",
       "&nbsp;&nbsp;<a href='/Users/jonathan/github/jupyter-best-practices/notebooks/.ipynb_checkpoints/02-Exploratory_(Interactive)_Data_Analysis-checkpoint.ipynb' target='_blank'>02-Exploratory_(Interactive)_Data_Analysis-checkpoint.ipynb</a><br>\n",
       "&nbsp;&nbsp;<a href='/Users/jonathan/github/jupyter-best-practices/notebooks/.ipynb_checkpoints/03-Some_basics-checkpoint.ipynb' target='_blank'>03-Some_basics-checkpoint.ipynb</a><br>\n",
       "&nbsp;&nbsp;<a href='/Users/jonathan/github/jupyter-best-practices/notebooks/.ipynb_checkpoints/04-More_basics-checkpoint.ipynb' target='_blank'>04-More_basics-checkpoint.ipynb</a><br>\n",
       "&nbsp;&nbsp;<a href='/Users/jonathan/github/jupyter-best-practices/notebooks/.ipynb_checkpoints/05-Pandas_Plotting_and_SQL-checkpoint.ipynb' target='_blank'>05-Pandas_Plotting_and_SQL-checkpoint.ipynb</a><br>\n",
       "&nbsp;&nbsp;<a href='/Users/jonathan/github/jupyter-best-practices/notebooks/.ipynb_checkpoints/06-Extras-checkpoint.ipynb' target='_blank'>06-Extras-checkpoint.ipynb</a><br>\n",
       "&nbsp;&nbsp;<a href='/Users/jonathan/github/jupyter-best-practices/notebooks/.ipynb_checkpoints/Data_Cleaning-checkpoint.ipynb' target='_blank'>Data_Cleaning-checkpoint.ipynb</a><br>\n",
       "&nbsp;&nbsp;<a href='/Users/jonathan/github/jupyter-best-practices/notebooks/.ipynb_checkpoints/github-integration-checkpoint.ipynb' target='_blank'>github-integration-checkpoint.ipynb</a><br>"
      ],
      "text/plain": [
       "/Users/jonathan/github/jupyter-best-practices/notebooks/\n",
       "  00-Overview.ipynb\n",
       "  01-Initial_Demo.ipynb\n",
       "  02-Exploratory_(Interactive)_Data_Analysis.ipynb\n",
       "  03-Some_basics.ipynb\n",
       "  04-More_basics.ipynb\n",
       "  05-Pandas_Plotting_and_SQL.ipynb\n",
       "  06-Extras.ipynb\n",
       "  Data_Cleaning.ipynb\n",
       "  github-integration.ipynb\n",
       "/Users/jonathan/github/jupyter-best-practices/notebooks/.ipynb_checkpoints/\n",
       "  00-Overview-checkpoint.ipynb\n",
       "  01-Initial_Demo-checkpoint.ipynb\n",
       "  02-Exploratory_(Interactive)_Data_Analysis-checkpoint.ipynb\n",
       "  03-Some_basics-checkpoint.ipynb\n",
       "  04-More_basics-checkpoint.ipynb\n",
       "  05-Pandas_Plotting_and_SQL-checkpoint.ipynb\n",
       "  06-Extras-checkpoint.ipynb\n",
       "  Data_Cleaning-checkpoint.ipynb\n",
       "  github-integration-checkpoint.ipynb"
      ]
     },
     "execution_count": 3,
     "metadata": {},
     "output_type": "execute_result"
    }
   ],
   "source": [
    "# Don't know why this doesn't seem to work half the time...\n",
    "FileLinks(\"/Users/jonathan/github/jupyter-best-practices/notebooks/\")"
   ]
  },
  {
   "cell_type": "code",
   "execution_count": null,
   "metadata": {
    "collapsed": true
   },
   "outputs": [],
   "source": []
  }
 ],
 "metadata": {
  "kernelspec": {
   "display_name": "Python 2",
   "language": "python",
   "name": "python2"
  },
  "language_info": {
   "codemirror_mode": {
    "name": "ipython",
    "version": 2
   },
   "file_extension": ".py",
   "mimetype": "text/x-python",
   "name": "python",
   "nbconvert_exporter": "python",
   "pygments_lexer": "ipython2",
   "version": "2.7.10"
  }
 },
 "nbformat": 4,
 "nbformat_minor": 0
}
